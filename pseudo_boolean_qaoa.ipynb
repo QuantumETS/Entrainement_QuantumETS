{
 "cells": [
  {
   "cell_type": "markdown",
   "metadata": {},
   "source": [
    "# Fonction Pseudo-booléenne vers hamiltonian de coût pour QAOA "
   ]
  },
  {
   "cell_type": "markdown",
   "metadata": {},
   "source": [
    "Définison tout d'abord ce qu'est une fonction pseudo Booléenne. une fonction booléen normal prend la forme suivante : AB+BC+C(A!B) ceci voudrais dire \"A et B OU B et C OU C et (A et NON B)\" où chaque valeur A B C peuvent être soit \"vrai\" ou \"faux\". le résultat de la fonction est aussi \"vrai\" ou \"faux\".\n",
    "\n",
    "une fonction pseudo-booléen est la même affaire, mais avec un coefficient imaginaire devant. par example : c<sub>0</sub>A-c<sub>1</sub>B*C où c<sub>k</sub> est un nombre imaginaire.\n",
    "\n",
    "dans ce jupyter notebook, on va montrer comment transformer une fonction pseudo-booléen vers un hamiltonian de coût pour QAOA. cet hamiltonian peut après être pris pour trouver les valeus (A B C...) afin de minimiser les valeur de sorte à avoir le plus bas coût."
   ]
  },
  {
   "cell_type": "markdown",
   "metadata": {},
   "source": [
    "Tout d'abord, on définit une fonction qui prend en entrée une expression booléenne du genre :\n",
    "\n",
    "\"10\\*A\\*B+-10\\*C+100\\*!A\"\n",
    "\n",
    "\n",
    "où :\n",
    "\n",
    "- `!` signifie **non** (négation),\n",
    "- `+` signifie **ou** (disjonction),\n",
    "- `*` signifie **et** (conjonction).\n",
    "\n",
    "Cette fonction retourne une version de l'expression où les variables booléennes sont remplacées par des **projecteurs** quantiques.\n",
    "\n",
    "---\n",
    "\n",
    "On note :\n",
    "\n",
    "- $ P_x = |x\\rangle \\langle x| $ est le projecteur sur l'état $ |x\\rangle $,\n",
    "- $ P_\\tau |y\\rangle = \\delta_{\\tau y} \\, |y\\rangle = y^\\tau |y\\rangle $  ($ y^\\tau = 1 $ si $ y = \\tau $, et 0 sinon).\n",
    "\n",
    "Ainsi, on peut \"remplacer\" une variable booléenne $ A \\in \\{0,1\\} $ par un projecteur $ P_A $, ce qui nous permet d'exprimer des fonctions booléennes comme des opérateurs agissant sur des états quantiques.\n",
    "\n",
    "---\n",
    "\n",
    "On utilise aussi le fait que, pour une base computationnelle $ |\\vec{a}\\rangle $, et une fonction booléenne $ f $, on a :\n",
    "\n",
    "$$\n",
    "\\langle \\vec{a} | f_H | \\vec{a} \\rangle = f(\\vec{a})\n",
    "$$\n",
    "\n",
    "où $ f_H $ est l’opérateur (ou observable) représentant la fonction $ f $.\n",
    "\n",
    "Autrement dit, appliquer $ f_H $ à un état $ |\\vec{a}\\rangle $ revient à multiplier cet état par la valeur $ f(\\vec{a}) $.\n"
   ]
  },
  {
   "cell_type": "code",
   "execution_count": null,
   "metadata": {},
   "outputs": [],
   "source": [
    "import re\n",
    "import pennylane as qml\n",
    "from pennylane import numpy as np\n",
    "from pennylane import qaoa, AdamOptimizer, SPSAOptimizer, QNSPSAOptimizer, MomentumOptimizer, NesterovMomentumOptimizer, AdagradOptimizer, RMSPropOptimizer, RiemannianGradientOptimizer\n",
    "from pennylane import *\n",
    "import matplotlib.pyplot as plt"
   ]
  },
  {
   "cell_type": "code",
   "execution_count": null,
   "metadata": {},
   "outputs": [],
   "source": [
    "def bool_expr_to_hamiltonian(expr, var_to_wire):\n",
    "    expr = expr.replace(' ', '')\n",
    "    terms = re.findall(r'([+-]?\\d+(?:\\.\\d+)?)\\*?([A-Za-z!*]*)', expr)\n",
    "\n",
    "    def parse_var(v):\n",
    "        negated = v.startswith('!')\n",
    "        var_name = v[1:] if negated else v\n",
    "        wire = var_to_wire[var_name]\n",
    "        return f'p({wire},{0 if negated else 1})'\n",
    "\n",
    "    hamiltonian_terms = []\n",
    "\n",
    "    for coeff, vars_str in terms:\n",
    "        if vars_str == '':\n",
    "            term_expr = f'{coeff}*qml.Identity(0)'\n",
    "        else:\n",
    "            vars_list = vars_str.split('*')\n",
    "            term_expr = ' @ '.join(parse_var(v) for v in vars_list)\n",
    "            term_expr = f'{coeff}*{term_expr}'\n",
    "\n",
    "        hamiltonian_terms.append(term_expr)\n",
    "\n",
    "    return ' + '.join(hamiltonian_terms)\n"
   ]
  },
  {
   "cell_type": "markdown",
   "metadata": {},
   "source": [
    "la fonction bool_expr_to_hamiltonian transforme les valeur A B C ... en projecteur $P_1^{qubit\\_nb}$ et les valeur !A !B !C ... en projecteur $P_0^{qubit\\_nb}$"
   ]
  },
  {
   "cell_type": "code",
   "execution_count": null,
   "metadata": {},
   "outputs": [],
   "source": [
    "var_to_wire = {'A':0, 'B':1, 'C':2}\n",
    "\n",
    "boolean_expression = \"10*A*B+-10*C-100*!A\"\n",
    "\n",
    "hamiltonian_expr = bool_expr_to_hamiltonian(boolean_expression, var_to_wire)\n",
    "hamiltonian_expr"
   ]
  },
  {
   "cell_type": "markdown",
   "metadata": {},
   "source": [
    "nous savons que $P_x^{n} = \\frac{1}{2} \\left( I^{n} + (-1)^x Z^{n} \\right)$\n",
    "\n",
    "où :\n",
    "\n",
    "- $P_x^{n}$  est le projecteur sur l’état associé à $ x \\in \\{0,1\\} $ sur le $ n $ ième qubits,\n",
    "- $ I^{n}$ est l'opérateur identité sur le $ n $ ième qubits,\n",
    "- $ Z^{n}$ est l'opérateur de Pauli-Z agissant sur le $ n $ ième qubits\n",
    "\n",
    "voici la fonction qui définis le projecteur $P_x^{n}$ en python :\n"
   ]
  },
  {
   "cell_type": "code",
   "execution_count": null,
   "metadata": {},
   "outputs": [],
   "source": [
    "def p(wire,value):\n",
    "    return (1/2)* (qml.Identity(wire)+((-1)**value)*qml.PauliZ(wire))"
   ]
  },
  {
   "cell_type": "markdown",
   "metadata": {},
   "source": [
    "Notre chaine de charactère généré précedemment inclus l'appel à la fonction p(wire,value) qu'on vient de définir.\n",
    "la porte identité et la porte pauliZ est implémenter avec pennylane. Le résultat: on peu généré notre hamiltonian de coût en utilisant la fonction eval de python. \n",
    "\n",
    "(la fonction eval est dangereuse niveau cybersecurité ! assurez-vous d'être sur du contenue de la chaine de charactère qui sera executer!)"
   ]
  },
  {
   "cell_type": "code",
   "execution_count": null,
   "metadata": {},
   "outputs": [],
   "source": [
    "H_cost = eval(hamiltonian_expr)\n",
    "H_cost"
   ]
  },
  {
   "cell_type": "markdown",
   "metadata": {},
   "source": [
    "Testons maintenant notre hamiltonien de coût avec QAOA !\n"
   ]
  },
  {
   "cell_type": "markdown",
   "metadata": {},
   "source": [
    "## Utilisation de QAOA avec pennylane pour trouver les valeurs minimum à notre fonction pseudo booléenne"
   ]
  },
  {
   "cell_type": "code",
   "execution_count": null,
   "metadata": {},
   "outputs": [],
   "source": [
    "wires = range(len(var_to_wire)) # le nombre de qubits dans le circuit doit être aussi gros que le nombre de valeur booléen différentes!\n",
    "dev = qml.device(\"lightning.qubit\", wires=wires)\n",
    "\n",
    "# Mixer Hamiltonian, on utilise x_mixer, c'est au goût\n",
    "mixer_h = qaoa.x_mixer(wires)"
   ]
  },
  {
   "cell_type": "code",
   "execution_count": null,
   "metadata": {},
   "outputs": [],
   "source": [
    "def qaoa_layer(gamma, alpha):\n",
    "    qaoa.cost_layer(gamma, H_cost)\n",
    "    qaoa.mixer_layer(alpha, mixer_h)\n",
    "\n",
    "def circuit(params):\n",
    "    for w in wires:\n",
    "        qml.Hadamard(wires=w)\n",
    "    for i in range(depth):\n",
    "        qaoa_layer(params[i, 0], params[i, 1])\n",
    "\n",
    "@qml.qnode(dev)\n",
    "def cost_function(params):\n",
    "    circuit(params)\n",
    "    return qml.expval(H_cost)"
   ]
  },
  {
   "cell_type": "markdown",
   "metadata": {},
   "source": [
    "maintenant, c'est le temps d'appliquer l'hamiltonian de coût avec QAOA et voir la performance avec différents optimizer et simulateurs."
   ]
  },
  {
   "cell_type": "code",
   "execution_count": null,
   "metadata": {},
   "outputs": [],
   "source": [
    "steps = 900\n",
    "depth = 20\n",
    "optimizer = AdamOptimizer()\n",
    "params = np.random.uniform(0, np.pi, (depth, 2))\n",
    "# Optimization loop\n",
    "for i in range(steps):\n",
    "    params = optimizer.step(cost_function, params)\n",
    "    if i% 10 == 1:\n",
    "        print(f'step {i} out of {steps}')\n",
    "\n",
    "print(\"Optimal Parameters:\")\n",
    "print(params)\n",
    "print(\"Optimal Energy:\", cost_function(params))"
   ]
  },
  {
   "cell_type": "markdown",
   "metadata": {},
   "source": [
    "investigation des méta paramètres utile pour SPSA"
   ]
  },
  {
   "cell_type": "code",
   "execution_count": null,
   "metadata": {},
   "outputs": [],
   "source": [
    "steps = 20\n",
    "depth = 20\n",
    "first_params = np.random.uniform(0, np.pi, (depth, 2))\n",
    "lowest_energy = 0\n",
    "bestmeta = {'a':0.0,'b':0.0}\n",
    "# Optimization loop\n",
    "for a in np.arange(0.630, 0.632, 0.001, dtype=float):\n",
    "    for c in np.arange(0.35, 0.355, 0.001, dtype=float):\n",
    "        optimizer = SPSAOptimizer(maxiter=steps,c=c, a=a)\n",
    "        params = first_params\n",
    "        for i in range(steps):\n",
    "            params = optimizer.step(cost_function, params)\n",
    "            if i% 10 == 1:\n",
    "                print(f'step {i} out of {steps}')\n",
    "        result = cost_function(params)\n",
    "        if result < lowest_energy:\n",
    "            bestmeta['a'] = a\n",
    "            bestmeta['c'] = c\n",
    "            lowest_energy = result\n",
    "        print(f\"Optimal Energy: {result} a:{a} c:{c}\")\n",
    "#print(\"Optimal Parameters:\")\n",
    "#print(params)\n",
    "#print(\"Optimal Energy:\", cost_function(params))\n",
    "print(f\"best meta params : {bestmeta} with lowest energy {lowest_energy}\")"
   ]
  },
  {
   "cell_type": "code",
   "execution_count": null,
   "metadata": {},
   "outputs": [],
   "source": [
    "steps = 700\n",
    "depth = 20\n",
    "first_params = np.random.uniform(0, np.pi, (depth, 2))\n",
    "lowest_energy = 0\n",
    "# Optimization loop\n",
    "a=0.631 # valeur trouver avec la cellule précédente\n",
    "c=0.351 # valeur trouver avec la cellule précédente\n",
    "optimizer = SPSAOptimizer(maxiter=steps, c=c, a=a)\n",
    "params = first_params\n",
    "for i in range(steps):\n",
    "    params = optimizer.step(cost_function, params)\n",
    "    if i% 10 == 1:\n",
    "        print(f'step {i} out of {steps}')\n",
    "print(\"Optimal Parameters:\")\n",
    "print(params)\n",
    "print(\"Optimal Energy:\", cost_function(params))\n"
   ]
  },
  {
   "cell_type": "code",
   "execution_count": null,
   "metadata": {},
   "outputs": [],
   "source": [
    "steps = 70\n",
    "depth = 20\n",
    "optimizer = QNSPSAOptimizer()\n",
    "params = np.random.uniform(0, np.pi, (depth, 2))\n",
    "# Optimization loop\n",
    "for i in range(steps):\n",
    "    params = optimizer.step(cost_function, params)\n",
    "    if i% 10 == 1:\n",
    "        print(f'step {i} out of {steps}')\n",
    "\n",
    "print(\"Optimal Parameters:\")\n",
    "print(params)\n",
    "print(\"Optimal Energy:\", cost_function(params))"
   ]
  },
  {
   "cell_type": "code",
   "execution_count": null,
   "metadata": {},
   "outputs": [],
   "source": [
    "from scipy.optimize import minimize\n",
    "def cost_function_wrapper(params_flat):\n",
    "    params_reshaped = params_flat.reshape(depth, 2)\n",
    "    return cost_function(params_reshaped)\n",
    "depth = 20\n",
    "steps = 70\n",
    "params_flat = np.random.uniform(0, np.pi, depth*2)\n",
    "params = minimize(cost_function_wrapper, params_flat, method='BFGS',\n",
    "                  options={'maxiter':steps}\n",
    "                  ).x.reshape(depth, 2)\n",
    "\n",
    "print(\"Optimal Parameters:\")\n",
    "print(params)\n",
    "print(\"Optimal Energy:\", cost_function(params))"
   ]
  },
  {
   "cell_type": "code",
   "execution_count": null,
   "metadata": {},
   "outputs": [],
   "source": [
    "from scipy.optimize import minimize\n",
    "def cost_function_wrapper(params_flat):\n",
    "    params_reshaped = params_flat.reshape(depth, 2)\n",
    "    return cost_function(params_reshaped)\n",
    "depth = 20\n",
    "steps = 70\n",
    "params_flat = np.random.uniform(0, np.pi, depth*2)\n",
    "params = minimize(cost_function_wrapper, params_flat, method='COBYLA',\n",
    "                  options={'maxiter':steps}\n",
    "                  ).x.reshape(depth, 2)\n",
    "\n",
    "print(\"Optimal Parameters:\")\n",
    "print(params)\n",
    "print(\"Optimal Energy:\", cost_function(params))"
   ]
  },
  {
   "cell_type": "code",
   "execution_count": null,
   "metadata": {},
   "outputs": [],
   "source": [
    "from skopt import gp_minimize\n",
    "from skopt.space import Real\n",
    "\n",
    "def cost_function_wrapper(params_flat):\n",
    "    params_reshaped = np.array(params_flat).reshape(depth, 2)\n",
    "    return float(cost_function(params_reshaped))\n",
    "result = gp_minimize(cost_function_wrapper, [Real(0, np.pi)] * (2 * depth), n_calls=25, random_state=42)\n",
    "print(\"Optimal Parameters:\", result.x)\n",
    "print(\"Optimal Energy:\", result.fun)\n",
    "params = np.array(result.x).reshape(depth, 2)"
   ]
  },
  {
   "cell_type": "code",
   "execution_count": null,
   "metadata": {},
   "outputs": [],
   "source": [
    "steps = 70\n",
    "depth = 20\n",
    "optimizer = MomentumOptimizer()\n",
    "params = np.random.uniform(0, np.pi, (depth, 2))\n",
    "# Optimization loop\n",
    "for i in range(steps):\n",
    "    params = optimizer.step(cost_function, params)\n",
    "    if i% 10 == 1:\n",
    "        print(f'step {i} out of {steps}')\n",
    "\n",
    "print(\"Optimal Parameters:\")\n",
    "print(params)\n",
    "print(\"Optimal Energy:\", cost_function(params))"
   ]
  },
  {
   "cell_type": "code",
   "execution_count": null,
   "metadata": {},
   "outputs": [],
   "source": [
    "import jax\n",
    "import jax.numpy as jnp\n",
    "from jaxopt import BFGS\n",
    "steps = 70\n",
    "depth = 20\n",
    "def cost_function_wrapper(params_flat):\n",
    "    params_reshaped = params_flat.reshape(depth, 2)\n",
    "    return cost_function(params_reshaped)\n",
    "# same thing but gpu\n",
    "params_flat = np.random.uniform(0, np.pi, depth*2)\n",
    "solver = BFGS(fun=cost_function_wrapper)\n",
    "solution = solver.run(params_flat)\n",
    "\n",
    "params = solution.params.reshape(depth, 2)\n",
    "print(\"Optimal Parameters:\")\n",
    "print(params)\n",
    "print(\"Optimal Energy:\", cost_function(params))"
   ]
  },
  {
   "cell_type": "code",
   "execution_count": null,
   "metadata": {},
   "outputs": [],
   "source": [
    "steps = 70\n",
    "depth = 20\n",
    "optimizer = QNGOptimizer()\n",
    "params = np.random.uniform(0, np.pi, (depth, 2))\n",
    "# Optimization loop\n",
    "for i in range(steps):\n",
    "    params = optimizer.step(cost_function, params)\n",
    "    if i% 10 == 1:\n",
    "        print(f'step {i} out of {steps}')\n",
    "\n",
    "print(\"Optimal Parameters:\")\n",
    "print(params)\n",
    "print(\"Optimal Energy:\", cost_function(params))"
   ]
  },
  {
   "cell_type": "code",
   "execution_count": null,
   "metadata": {},
   "outputs": [],
   "source": [
    "# Probability distribution of final state\n",
    "@qml.qnode(dev)\n",
    "def probability_circuit(params):\n",
    "    circuit(params)\n",
    "    return qml.probs(wires=wires)\n",
    "\n",
    "probs = probability_circuit(params)\n",
    "\n",
    "# Visualization\n",
    "plt.style.use(\"seaborn-v0_8\")\n",
    "plt.bar(range(2 ** len(wires)), probs)\n",
    "plt.xlabel('Basis State')\n",
    "plt.ylabel('Probability')\n",
    "plt.xticks(range(2 ** len(wires)), [f\"{i:03b}\" for i in range(2 ** len(wires))])\n",
    "plt.title('Final State Probabilities after QAOA')\n",
    "plt.show()"
   ]
  },
  {
   "cell_type": "markdown",
   "metadata": {},
   "source": [
    "optimizer ranking with depth 20 and 70 steps and no noise: \n",
    "\n",
    "| Optimizer Name                                      | Avg Execution Time | Optimal Energy Found | Comment                                                                 |\n",
    "|-----------------------------------------------------|---------------------|-----------------------|-------------------------------------------------------------------------|\n",
    "| jax_BFGS                                            | 2m10s               | -109.97 Very reliable results              | supposedly only good in noiseless situations    |\n",
    "| Adam                                                | 4.4s                | -108.55             |                                                                         |\n",
    "| scipy_BFGS                                          | 1m3s                | -109.99 Very reliable results             |  supposedly only good in noiseless situations    |\n",
    "| COBYLA                                              | 1.1s                | -96                   |                                                                         |\n",
    "| gp_minimize (Bayesian optimization using GPs)       | 8.5s                | -98                   | Supposedly good in noisy situations                                     |\n",
    "| QNSPSAOptimizer                                     | 38s                 | -95                   |                                                                         |\n",
    "| SPSAOptimizer              | 14.5s               | -73  (very variable results)                  | Tuned meta parameter – supposedly good in noisy situations              |\n",
    "| MomentumOptimizer                                   | 5s                  | -40 to -80 (variable) |                                                                         |\n",
    "| QNGOptimizer                                        | 1m24s               | -41                   |                                                                         |\n"
   ]
  },
  {
   "cell_type": "markdown",
   "metadata": {},
   "source": [
    "# Exemple d'une fonction booléenne intégrée dans une matrice et vérifié à la main\n",
    "![Pseudo boolean mapping example](img/pseudo_boolean.jpg)"
   ]
  },
  {
   "cell_type": "code",
   "execution_count": null,
   "metadata": {},
   "outputs": [],
   "source": [
    "import numpy as np\n",
    "from functools import reduce\n",
    "\n",
    "def bitstring_to_column_array(bitstring):\n",
    "    \"\"\"\n",
    "    Converts a bitstring to a column NumPy array.\n",
    "\n",
    "    Args:\n",
    "        bitstring: The bitstring to convert.\n",
    "\n",
    "    Returns:\n",
    "        A column NumPy array representing the bitstring.\n",
    "    \"\"\"\n",
    "    bit_list = [int(bit) for bit in bitstring]\n",
    "    bit_array = np.array(bit_list)\n",
    "    column_array = bit_array.reshape(-1, 1)\n",
    "    return column_array\n",
    "\n",
    "s1 = bitstring_to_column_array(\"10000000\")\n",
    "s2 = bitstring_to_column_array(\"00100000\")\n",
    "s3 = bitstring_to_column_array(\"00001000\")\n",
    "s4 = bitstring_to_column_array(\"00000100\")\n",
    "s5 = bitstring_to_column_array(\"00000010\")\n",
    "s6 = bitstring_to_column_array(\"00000001\")\n",
    "p_s_1 = s1*s1.T \n",
    "p_s_2 = s2*s2.T\n",
    "p_s_3 = s3*s3.T\n",
    "p_s_4 = s4*s4.T\n",
    "p_s_5 = s5*s5.T\n",
    "p_s_6 = s6*s6.T\n",
    "print( p_s_1+p_s_2+2*p_s_3+p_s_4+3*p_s_5+2*p_s_6 )\n",
    "\n",
    "ket0 = np.array([1, 0])\n",
    "ket1 = np.array([0, 1])\n",
    "\n",
    "p11 = np.outer(ket1, ket1)\n",
    "p00 = np.outer(ket0, ket0)\n",
    "iden2 = np.eye(2)\n",
    "\n",
    "# helper\n",
    "kron = lambda *mats: reduce(np.kron, mats)\n",
    "\n",
    "term1 = kron(p11, iden2, iden2)          # |1⟩⟨1| ⊗ I ⊗ I₄\n",
    "term2 = kron(iden2, iden2, p00)          # I ⊗ I₄ ⊗ |0⟩⟨0|\n",
    "term3 = kron(np.kron(p11, p11), iden2)   # |11⟩⟨11| ⊗ I₄\n",
    "\n",
    "result = term1 + term2 + term3           # each 8 × 8\n",
    "print(result)"
   ]
  }
 ],
 "metadata": {
  "kernelspec": {
   "display_name": "Python 3",
   "language": "python",
   "name": "python3"
  },
  "language_info": {
   "codemirror_mode": {
    "name": "ipython",
    "version": 3
   },
   "file_extension": ".py",
   "mimetype": "text/x-python",
   "name": "python",
   "nbconvert_exporter": "python",
   "pygments_lexer": "ipython3",
   "version": "3.12.6"
  }
 },
 "nbformat": 4,
 "nbformat_minor": 2
}
