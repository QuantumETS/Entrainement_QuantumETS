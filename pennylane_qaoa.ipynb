{
 "cells": [
  {
   "cell_type": "markdown",
   "metadata": {},
   "source": [
    "# Introduction à QAOA avec PennyLane\n",
    "\n",
    "### basée sur https://pennylane.ai/qml/demos/tutorial_qaoa_intro et https://pennylane.ai/qml/demos/tutorial_qaoa_maxcut"
   ]
  },
  {
   "cell_type": "markdown",
   "metadata": {},
   "source": [
    "Commençons tout de suite en définissant un Hamiltonien. voici comment c'est fait en Pennylane :"
   ]
  },
  {
   "cell_type": "code",
   "execution_count": null,
   "metadata": {},
   "outputs": [],
   "source": [
    "%pip install pennylane"
   ]
  },
  {
   "cell_type": "code",
   "execution_count": 11,
   "metadata": {},
   "outputs": [
    {
     "name": "stdout",
     "output_type": "stream",
     "text": [
      "1 * X(0) + 1 * Z(1) + 0.5 * (X(0) @ X(1))\n"
     ]
    }
   ],
   "source": [
    "import pennylane as qml\n",
    "# à noté que @ est un produit tensorielle. donc ici on fait le produit tensorielle entre deux porte PauliX\n",
    "# voir https://docs.pennylane.ai/en/stable/code/api/pennylane.ops.op_math.LinearCombination.html pour plus de détails sur qml.Hamiltonian\n",
    "H = qml.Hamiltonian([1, 1, 0.5], [qml.PauliX(0), qml.PauliZ(1), qml.PauliX(0) @ qml.PauliX(1)]) \n",
    "# ici c'est comme si on faisait 1*PauliX 1*PauliZ et 0.5 * (PauliX @ PauliX). le premier argument sont les coefficients pour les \"observables\" du deuxième argument\n",
    "print(H)"
   ]
  },
  {
   "cell_type": "markdown",
   "metadata": {},
   "source": [
    "L'opérateur d'évolution temporelle (time evolution operator) peut être décrit comme étant $ U(H, t) = e^{-i H t / \\hbar} $ grace à cette propriété, on peu représenter des circuits quantiques comme étant un hamiltonian\n",
    "\n",
    "tout les opérateurs unitaire $ U $ peuvent être écrit sous la forme $ U = e^{i \\gamma H} $\n",
    "\n",
    "où $\\gamma$ est un scalaire (un nombre) et $ H $ est un opérateur hermitian (Hermitian operator).\n",
    "\n"
   ]
  },
  {
   "cell_type": "markdown",
   "metadata": {},
   "source": [
    "Pour approximé un time-evolution unitary, un peu définir les équations suivantes :\n",
    "$$\n",
    "U(H, t, n) = \\prod_{j=1}^{n} \\prod_{k} e^{-i H_k \\frac{t}{n}}\n",
    "$$\n",
    "\n",
    "$$\n",
    "H = \\sum_{k} H_k,\n",
    "$$\n",
    "\n",
    "où $ U $ approche $e^{-i H t}$  quand $ n $ devient grand.\n",
    "\n",
    "tout ça est implémenter avec la fonction qml.ApproxTimeEvolution(hamiltonian, time, n, id=None) de pennylane. (l'argument id sert juste à mettre une étiquette sur une instance spécifique)\n"
   ]
  },
  {
   "cell_type": "code",
   "execution_count": 2,
   "metadata": {},
   "outputs": [
    {
     "name": "stdout",
     "output_type": "stream",
     "text": [
      "0: ──RX(1.00)─╭RXX(0.50)──RX(1.00)─╭RXX(0.50)─┤  <Z>\n",
      "1: ──RZ(1.00)─╰RXX(0.50)──RZ(1.00)─╰RXX(0.50)─┤  <Z>\n"
     ]
    }
   ],
   "source": [
    "dev = qml.device(\"default.qubit\", wires=2)\n",
    "\n",
    "t = 1\n",
    "n = 2\n",
    "\n",
    "\n",
    "@qml.qnode(dev)\n",
    "def circuit():\n",
    "    qml.ApproxTimeEvolution(H, t, n) # voir https://docs.pennylane.ai/en/stable/code/api/pennylane.ApproxTimeEvolution.html pour plus de détails\n",
    "    return [qml.expval(qml.PauliZ(i)) for i in range(2)]\n",
    "\n",
    "\n",
    "print(qml.draw(circuit, level=\"device\")())"
   ]
  },
  {
   "cell_type": "markdown",
   "metadata": {},
   "source": [
    "pour divers raisons, on se ramasse à vouloir repeter des parties de notre circuit souvent. ça peut être fait avec qml.layer(template, depth, *args, **kwargs) \n",
    "\n",
    "voir https://docs.pennylane.ai/en/stable/code/api/pennylane.layer.html#pennylane.layer"
   ]
  },
  {
   "cell_type": "code",
   "execution_count": 3,
   "metadata": {},
   "outputs": [
    {
     "name": "stdout",
     "output_type": "stream",
     "text": [
      "0: ──RX(0.50)─╭●─┤  <Z>\n",
      "1: ──H────────╰X─┤  <Z>\n"
     ]
    }
   ],
   "source": [
    "# example avec \"un layer\" seulement :\n",
    "def circ(theta):\n",
    "    qml.RX(theta, wires=0)\n",
    "    qml.Hadamard(wires=1)\n",
    "    qml.CNOT(wires=[0, 1])\n",
    "\n",
    "\n",
    "@qml.qnode(dev)\n",
    "def circuit(param):\n",
    "    circ(param)\n",
    "    return [qml.expval(qml.PauliZ(i)) for i in range(2)]\n",
    "\n",
    "\n",
    "print(qml.draw(circuit)(0.5))"
   ]
  },
  {
   "cell_type": "code",
   "execution_count": 4,
   "metadata": {},
   "outputs": [
    {
     "name": "stdout",
     "output_type": "stream",
     "text": [
      "0: ──RX(0.30)─╭●──RX(0.40)─╭●──RX(0.50)─╭●─┤  <Z>\n",
      "1: ──H────────╰X──H────────╰X──H────────╰X─┤  <Z>\n"
     ]
    }
   ],
   "source": [
    "# example avec un nombre arbitraire (ici 3) layer :\n",
    "@qml.qnode(dev)\n",
    "def circuit(params, **kwargs):\n",
    "    qml.layer(circ, 3, params)\n",
    "    return [qml.expval(qml.PauliZ(i)) for i in range(2)]\n",
    "\n",
    "\n",
    "print(qml.draw(circuit)([0.3, 0.4, 0.5]))"
   ]
  },
  {
   "cell_type": "markdown",
   "metadata": {},
   "source": [
    "L'algorithme quantique d'approximation pour l'optimisation (quantum approximate optimization algorithm, QAOA) est une technique générale qui peut être utilisée pour trouver des solutions approximatifs à des problèmes d'optimisation combinatoire, en particulier des problèmes pouvant être formulés en recherche d'une chaîne binaire optimale. Voici les étapes générales de QAOA :\n",
    "\n",
    "1. **Définir un Hamiltonien de coût $H_C$** tel que son état fondamental (ground state) encode la solution au problème d'optimisation.\n",
    "\n",
    "2. **Définir un Hamiltonien de mélange $H_M$**\n",
    "\n",
    "3. **Construire les circuits** $e^{-i\\gamma H_C}$ **et** $e^{-i\\alpha H_M}$. Nous appelons respectivement ces circuits les couches de coût et de mélange.\n",
    "\n",
    "4. **Choisir un paramètre $n \\ge 1$ et construire le circuit :**\n",
    "\n",
    "   $$\n",
    "   U(\\gamma, \\alpha) = e^{-i\\alpha_n H_M}\\, e^{-i\\gamma_n H_C}\\, \\dots\\, e^{-i\\alpha_1 H_M}\\, e^{-i\\gamma_1 H_C},\n",
    "   $$\n",
    "\n",
    "   qui consiste de plusieurs couches de coût et de mélange en répétition.\n",
    "\n",
    "5. **Préparer un état initial, appliquer $U(\\gamma, \\alpha)$ et utiliser des techniques classiques pour optimiser les paramètres.**\n",
    "\n",
    "6. **Après l'optimisation du circuit, les mesures de l'état de sortie révèlent des solutions approximatifs au problème d'optimisation.**\n",
    "\n",
    "En résumé, **le point de départ de QAOA est la spécification des Hamiltoniens de coût et de mélange**. Nous utilisons ensuite l'évolution temporelle et l'empilement de couches (layers, répétition de circuits) pour créer un circuit variationnel et optimiser ses paramètres. L'algorithme se conclut par un échantillonnage du circuit afin d'obtenir une solution approchée au problème d'optimisation.\n"
   ]
  },
  {
   "cell_type": "markdown",
   "metadata": {},
   "source": [
    "# Example d'application de QAOA pour trouver le \"minimum vertex cover\" d'un graph "
   ]
  },
  {
   "cell_type": "markdown",
   "metadata": {},
   "source": [
    "le but du problème du \"minimum vertex cover\" est de trouver une collection de vertex \"coloré\" pour lesquels tout les arêtes dans le graphique contienne au moin un vertex \"coloré\" (\"in the cover\") ![title](img/minvc.png)"
   ]
  },
  {
   "cell_type": "markdown",
   "metadata": {},
   "source": [
    "La sortie de QAOA est une chaine binaire, dans le cas démontrer ici, la chaine serait 01010 (le deuxième vertex et le quatrième vertex)\n",
    "les numéros des vertex ne sont pas afficher dans le graphs, mais sachez que c'est le vertex 2 et 4 qui sont coloré"
   ]
  },
  {
   "cell_type": "code",
   "execution_count": 3,
   "metadata": {},
   "outputs": [],
   "source": [
    "from pennylane import qaoa\n",
    "from pennylane import numpy as np\n",
    "from matplotlib import pyplot as plt\n",
    "import networkx as nx"
   ]
  },
  {
   "cell_type": "code",
   "execution_count": 6,
   "metadata": {},
   "outputs": [
    {
     "data": {
      "image/png": "[encoded data removed]",
      "text/plain": [
       "<Figure size 640x480 with 1 Axes>"
      ]
     },
     "metadata": {},
     "output_type": "display_data"
    }
   ],
   "source": [
    "# prenez le temps de comprendre comment la list edges forme le graphique afficher sous ce code\n",
    "edges = [(0, 1), (1, 2), (2, 0), (2, 3)]\n",
    "graph = nx.Graph(edges)\n",
    "positions = nx.spring_layout(graph, seed=1)\n",
    "\n",
    "nx.draw(graph, with_labels=True, pos=positions)\n",
    "plt.show()"
   ]
  },
  {
   "cell_type": "markdown",
   "metadata": {},
   "source": [
    "solutions possibles à ce graph : 1010 et 0110, c'est le resultats qu'on veux avoir après l'execution de QAOA\n",
    "\n",
    "Pennylane fournis déjà des hamiltonians de coût et de mixage pour plein de problème d'optimisation. pour voir la liste de tout les problèmes de base que QAOA permet de réglé, voir https://docs.pennylane.ai/en/stable/code/qml_qaoa.html\n",
    "\n",
    "on voit dans la documentation qu'ils ont déjà implémenter une fonction QAOA pour le problème min_vertex_cover, c'est ça qu'on va utiliser"
   ]
  },
  {
   "cell_type": "code",
   "execution_count": null,
   "metadata": {},
   "outputs": [
    {
     "name": "stdout",
     "output_type": "stream",
     "text": [
      "Cost Hamiltonian 0.75 * (Z(0) @ Z(1)) + 0.75 * Z(0) + 0.75 * Z(1) + 0.75 * (Z(0) @ Z(2)) + 0.75 * Z(0) + 0.75 * Z(2) + 0.75 * (Z(1) @ Z(2)) + 0.75 * Z(1) + 0.75 * Z(2) + 0.75 * (Z(2) @ Z(3)) + 0.75 * Z(2) + 0.75 * Z(3) + -1.0 * Z(0) + -1.0 * Z(1) + -1.0 * Z(2) + -1.0 * Z(3)\n",
      "Mixer Hamiltonian 1 * X(0) + 1 * X(1) + 1 * X(2) + 1 * X(3)\n"
     ]
    }
   ],
   "source": [
    "cost_h, mixer_h = qaoa.min_vertex_cover(graph, constrained=False) # avec jacob aujourd'hui on va apprendre à comment reconstruire cost_h pour résoudre des problèmes custom!\n",
    "\n",
    "print(\"Cost Hamiltonian\", cost_h)\n",
    "print(\"Mixer Hamiltonian\", mixer_h)"
   ]
  },
  {
   "cell_type": "code",
   "execution_count": 8,
   "metadata": {},
   "outputs": [],
   "source": [
    "#on utilise des variable global dans une fonction, pas idéal\n",
    "def qaoa_layer(gamma, alpha):\n",
    "    qaoa.cost_layer(gamma, cost_h)\n",
    "    qaoa.mixer_layer(alpha, mixer_h)"
   ]
  },
  {
   "cell_type": "code",
   "execution_count": null,
   "metadata": {},
   "outputs": [],
   "source": [
    "# maintenant on crée le circuit variationel pour résoudre le problème\n",
    "wires = range(4)\n",
    "depth = 2\n",
    "\n",
    "\n",
    "def circuit(params, **kwargs):\n",
    "    for w in wires:\n",
    "        qml.Hadamard(wires=w)\n",
    "    qml.layer(qaoa_layer, depth, params[0], params[1]) # params[0] et params[1] permet de passer les arguments, ici gamma et alpha, dans le circuit"
   ]
  },
  {
   "cell_type": "code",
   "execution_count": 16,
   "metadata": {},
   "outputs": [],
   "source": [
    "dev = qml.device(\"default.qubit\", wires=wires)\n",
    "\n",
    "@qml.qnode(dev)\n",
    "def cost_function(params):\n",
    "    circuit(params)\n",
    "    return qml.expval(cost_h)"
   ]
  },
  {
   "cell_type": "code",
   "execution_count": 17,
   "metadata": {},
   "outputs": [],
   "source": [
    "optimizer = qml.GradientDescentOptimizer() # optimisation classic avec la descente de gradient\n",
    "steps = 70\n",
    "params = np.array([[0.5, 0.5], [0.5, 0.5]], requires_grad=True)"
   ]
  },
  {
   "cell_type": "code",
   "execution_count": 18,
   "metadata": {},
   "outputs": [
    {
     "name": "stdout",
     "output_type": "stream",
     "text": [
      "Optimal Parameters\n",
      "[[0.59806352 0.94198485]\n",
      " [0.52797281 0.85552845]]\n"
     ]
    }
   ],
   "source": [
    "for i in range(steps):\n",
    "    params = optimizer.step(cost_function, params)\n",
    "\n",
    "print(\"Optimal Parameters\")\n",
    "print(params)"
   ]
  },
  {
   "cell_type": "code",
   "execution_count": 19,
   "metadata": {},
   "outputs": [],
   "source": [
    "@qml.qnode(dev)\n",
    "def probability_circuit(gamma, alpha):\n",
    "    circuit([gamma, alpha])\n",
    "    return qml.probs(wires=wires)\n",
    "\n",
    "\n",
    "probs = probability_circuit(params[0], params[1])"
   ]
  },
  {
   "cell_type": "code",
   "execution_count": 22,
   "metadata": {},
   "outputs": [
    {
     "data": {
      "image/png": "[encoded data removed]",
      "text/plain": [
       "<Figure size 800x550 with 1 Axes>"
      ]
     },
     "metadata": {},
     "output_type": "display_data"
    }
   ],
   "source": [
    "plt.style.use(\"seaborn-v0_8\")\n",
    "plt.bar(range(2 ** len(wires)), probs)\n",
    "plt.show()"
   ]
  },
  {
   "cell_type": "code",
   "execution_count": 28,
   "metadata": {},
   "outputs": [
    {
     "name": "stdout",
     "output_type": "stream",
     "text": [
      "0:0000\n",
      "1:0001\n",
      "2:0010\n",
      "3:0011\n",
      "4:0100\n",
      "5:0101\n",
      "6:0110\n",
      "7:0111\n",
      "8:1000\n",
      "9:1001\n",
      "10:1010\n",
      "11:1011\n",
      "12:1100\n",
      "13:1101\n",
      "14:1110\n",
      "15:1111\n",
      "16:10000\n"
     ]
    }
   ],
   "source": [
    "# référence pour voir l'équalent des nombres en binaire.\n",
    "for i in range(17):\n",
    "    print(f\"{i}:{'{0:04b}'.format(i)}\")"
   ]
  },
  {
   "cell_type": "markdown",
   "metadata": {},
   "source": [
    "On remarque que 6 (0110) et 10 (1010) sont les deux valeurs qui ressortes"
   ]
  },
  {
   "cell_type": "markdown",
   "metadata": {},
   "source": [
    "présentement, on a deux résultat, mais on peut ajouter des contraintes pour mettre une préférence de sorte que seulement un des deux résultats ressort"
   ]
  },
  {
   "cell_type": "code",
   "execution_count": 34,
   "metadata": {},
   "outputs": [],
   "source": [
    "reward_h = qaoa.edge_driver(nx.Graph([(0, 2)]), [\"11\"]) # edge_driver assign une énergie plus faibles à l'état 11, peut importe où dans le bitstring\n",
    "# voir https://docs.pennylane.ai/en/stable/code/api/pennylane.qaoa.cost.edge_driver.html pour les détails\n",
    "new_cost_h = cost_h + 2 * reward_h # ici on dit que 11 est plus couteux, donc moin de chance de voir 0110 sortir"
   ]
  },
  {
   "cell_type": "code",
   "execution_count": 35,
   "metadata": {},
   "outputs": [
    {
     "name": "stdout",
     "output_type": "stream",
     "text": [
      "Optimal Parameters\n",
      "[[0.45959941 0.96095271]\n",
      " [0.27029962 0.78042396]]\n"
     ]
    }
   ],
   "source": [
    "# meme affaire que plus haut, mais la on utilise la nouvelle fonction de cout\n",
    "def qaoa_layer(gamma, alpha):\n",
    "    qaoa.cost_layer(gamma, new_cost_h)\n",
    "    qaoa.mixer_layer(alpha, mixer_h)\n",
    "\n",
    "\n",
    "def circuit(params, **kwargs):\n",
    "    for w in wires:\n",
    "        qml.Hadamard(wires=w)\n",
    "    qml.layer(qaoa_layer, depth, params[0], params[1])\n",
    "\n",
    "\n",
    "@qml.qnode(dev)\n",
    "def cost_function(params):\n",
    "    circuit(params)\n",
    "    return qml.expval(new_cost_h)\n",
    "\n",
    "\n",
    "params = np.array([[0.5, 0.5], [0.5, 0.5]], requires_grad=True)\n",
    "\n",
    "for i in range(steps):\n",
    "    params = optimizer.step(cost_function, params)\n",
    "\n",
    "print(\"Optimal Parameters\")\n",
    "print(params)"
   ]
  },
  {
   "cell_type": "code",
   "execution_count": 36,
   "metadata": {},
   "outputs": [
    {
     "data": {
      "image/png": "[encoded data removed]",
      "text/plain": [
       "<Figure size 800x550 with 1 Axes>"
      ]
     },
     "metadata": {},
     "output_type": "display_data"
    }
   ],
   "source": [
    "@qml.qnode(dev)\n",
    "def probability_circuit(gamma, alpha):\n",
    "    circuit([gamma, alpha])\n",
    "    return qml.probs(wires=wires)\n",
    "\n",
    "\n",
    "probs = probability_circuit(params[0], params[1])\n",
    "\n",
    "plt.style.use(\"seaborn-v0_8\")\n",
    "plt.bar(range(2 ** len(wires)), probs)\n",
    "plt.show()"
   ]
  },
  {
   "cell_type": "markdown",
   "metadata": {},
   "source": [
    "Après l'application du reward sur l'hamiltonian, on voit que seulement 10 ressort"
   ]
  }
 ],
 "metadata": {
  "kernelspec": {
   "display_name": "Python 3",
   "language": "python",
   "name": "python3"
  },
  "language_info": {
   "codemirror_mode": {
    "name": "ipython",
    "version": 3
   },
   "file_extension": ".py",
   "mimetype": "text/x-python",
   "name": "python",
   "nbconvert_exporter": "python",
   "pygments_lexer": "ipython3",
   "version": "3.12.6"
  }
 },
 "nbformat": 4,
 "nbformat_minor": 2
}
